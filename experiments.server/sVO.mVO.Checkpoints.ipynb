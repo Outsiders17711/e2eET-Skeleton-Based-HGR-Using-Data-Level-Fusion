{
    "cells": [
        {
            "cell_type": "markdown",
            "metadata": {},
            "source": [
                "## Dynamic Hand Gestures Classification Test: DHG 14/28 Dataset"
            ]
        },
        {
            "cell_type": "code",
            "execution_count": 2,
            "metadata": {},
            "outputs": [],
            "source": [
                "from pathlib import Path\n",
                "from exp00_helper_functions import *\n",
                "\n",
                "idx_gpu = 3"
            ]
        },
        {
            "cell_type": "code",
            "execution_count": 3,
            "metadata": {},
            "outputs": [
                {
                    "name": "stdout",
                    "output_type": "stream",
                    "text": [
                        "d=PosixPath('../images_d/CNR-3d-original-1920px.1080px-[topdown]'): 1925\n",
                        "d=PosixPath('../images_d/DHG1428.mVOs-3d.14g-noisy(raw).960px-[allVOs].adaptive-mean'): 16800\n",
                        "d=PosixPath('../images_d/DHG1428.mVOs-3d.28g-noisy(raw).960px-[allVOs].adaptive-mean'): 16800\n",
                        "d=PosixPath('../images_d/FPHA.mVOs-3d.V1-noisy(raw).960px-[allVOs].adaptive-mean'): 7050\n",
                        "d=PosixPath('../images_d/FPHA.mVOs-dictPaperSplit-3d.V1-noisy(raw).960px-[allVOs].adaptive-mean'): 7050\n",
                        "d=PosixPath('../images_d/LMDHG.mVOs-3d.V1-noisy(raw).960px-[allVOs].adaptive-mean'): 3654\n",
                        "d=PosixPath('../images_d/LMDHG.mVOs-dictPaperSplit-3d.V1-noisy(raw).960px-[allVOs].adaptive-mean'): 3654\n",
                        "d=PosixPath('../images_d/SHREC2017.mVOs-3d.14g-noisy(raw).960px-[allVOs].adaptive-mean'): 16800\n",
                        "d=PosixPath('../images_d/SHREC2017.mVOs-3d.28g-noisy(raw).960px-[allVOs].adaptive-mean'): 16800\n"
                    ]
                }
            ],
            "source": [
                "for d in sorted(Path(\"../images_d/\").iterdir()):\n",
                "    if d.is_dir(): print(f\"{d=}: {len(list(d.rglob('*png')))}\")"
            ]
        },
        {
            "attachments": {},
            "cell_type": "markdown",
            "metadata": {},
            "source": [
                "#### setting 1SA benchmarks\n",
                "---"
            ]
        },
        {
            "cell_type": "code",
            "execution_count": 4,
            "metadata": {},
            "outputs": [],
            "source": [
                "dsName = [\"DHG1428\", \"FPHA\", \"LMDHG\", \"SHREC2017\"][idx_gpu]\n",
                "nClasses = [14, 45, 13, 14][idx_gpu]\n",
                "sVOs = [\"top-down\", \"front-to\", \"front-away\", \"side-right\", \"side-left\", \"custom\"]\n",
                "\n",
                "for _vo_ in sVOs:\n",
                "    pass\n",
                "    # !python allDatasets-sVO.mVO.Checkpoints.py -IG {idx_gpu} -nC {nClasses} -mVOs {_vo_} -dsN {dsName} -V\n",
                "    break"
            ]
        },
        {
            "attachments": {},
            "cell_type": "markdown",
            "metadata": {},
            "source": [
                "#### setting 2SA benchmarks\n",
                "---"
            ]
        },
        {
            "cell_type": "code",
            "execution_count": 5,
            "metadata": {},
            "outputs": [
                {
                    "name": "stdout",
                    "output_type": "stream",
                    "text": [
                        "\n",
                        ">> n_tasksGPUs: 30  |  taskDistribution: [30] \n"
                    ]
                }
            ],
            "source": [
                "idx_ds = 0\n",
                "dsName = [\"DHG1428\", \"FPHA\", \"LMDHG\", \"SHREC2017\"][idx_ds]\n",
                "nClasses = [14, 45, 13, 14][idx_ds]\n",
                "\n",
                "sVOs = [\"top-down\", \"front-to\", \"front-away\", \"side-right\", \"side-left\", \"custom\"]\n",
                "tasks = schedulerGPU_mVOs(idx_gpu=0, depth=2, viewOrientations=sVOs, nClasses=[nClasses], nGPUs=1)\n",
                "\n",
                "for (_mvo_, _nc_) in tasks:\n",
                "    pass\n",
                "    # print(_mvo_, \"::\", translateMVOs(_mvo_.split()), _nc_)\n",
                "    # !python allDatasets-sVO.mVO.Checkpoints.py -IG {idx_gpu} -nC {nClasses} -mVOs {_mvo_} -dsN {dsName} -V\n",
                "    # break"
            ]
        },
        {
            "attachments": {},
            "cell_type": "markdown",
            "metadata": {},
            "source": [
                "---"
            ]
        },
        {
            "cell_type": "code",
            "execution_count": null,
            "metadata": {},
            "outputs": [],
            "source": []
        }
    ],
    "metadata": {
        "kernelspec": {
            "display_name": "hlu",
            "language": "python",
            "name": "python3"
        },
        "language_info": {
            "codemirror_mode": {
                "name": "ipython",
                "version": 3
            },
            "file_extension": ".py",
            "mimetype": "text/x-python",
            "name": "python",
            "nbconvert_exporter": "python",
            "pygments_lexer": "ipython3",
            "version": "3.8.5 (default, Sep  3 2020, 21:29:08) [MSC v.1916 64 bit (AMD64)]"
        },
        "vscode": {
            "interpreter": {
                "hash": "fd523941f93840f3066dc30de95cef5f0b3787e3e58410dcba83902e24288dc0"
            }
        }
    },
    "nbformat": 4,
    "nbformat_minor": 2
}
