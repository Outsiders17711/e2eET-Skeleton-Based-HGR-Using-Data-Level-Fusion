{
    "cells": [
        {
            "attachments": {},
            "cell_type": "markdown",
            "metadata": {},
            "source": [
                "## e2eET Skeleton Based HGR Using Data-Level Fusion"
            ]
        },
        {
            "cell_type": "code",
            "execution_count": 3,
            "metadata": {},
            "outputs": [],
            "source": [
                "from pathlib import Path\n",
                "from _helperFunctions import *"
            ]
        },
        {
            "cell_type": "code",
            "execution_count": 4,
            "metadata": {},
            "outputs": [
                {
                    "name": "stdout",
                    "output_type": "stream",
                    "text": [
                        "d=PosixPath('../images_d/CNR-3d-original-1920px.1080px-[topdown]'): 1925\n",
                        "d=PosixPath('../images_d/DHG1428.mVOs-3d.14g-noisy(raw).960px-[allVOs].adaptive-mean'): 16800\n",
                        "d=PosixPath('../images_d/DHG1428.mVOs-3d.28g-noisy(raw).960px-[allVOs].adaptive-mean'): 16800\n",
                        "d=PosixPath('../images_d/FPHA.mVOs-dictPaperSplit-3d.V1-noisy(raw).960px-[allVOs].adaptive-mean'): 7050\n",
                        "d=PosixPath('../images_d/LMDHG.mVOs-dictPaperSplit-3d.V1-noisy(raw).960px-[allVOs].adaptive-mean'): 3654\n",
                        "d=PosixPath('../images_d/SHREC2017.mVOs-3d.14g-noisy(raw).960px-[allVOs].adaptive-mean'): 16800\n",
                        "d=PosixPath('../images_d/SHREC2017.mVOs-3d.28g-noisy(raw).960px-[allVOs].adaptive-mean'): 16800\n"
                    ]
                }
            ],
            "source": [
                "for d in sorted(Path(\"../images_d/\").iterdir()):\n",
                "    if d.is_dir(): print(f\"{d=}: {len(list(d.rglob('*png')))}\")"
            ]
        },
        {
            "cell_type": "code",
            "execution_count": 5,
            "metadata": {},
            "outputs": [],
            "source": [
                "idx_gpu = 0\n",
                "sVOs = [\"top-down\", \"front-to\", \"front-away\", \"side-right\", \"side-left\", \"custom\"]\n"
            ]
        },
        {
            "attachments": {},
            "cell_type": "markdown",
            "metadata": {},
            "source": [
                "#### setting 1SA benchmarks\n",
                "---"
            ]
        },
        {
            "cell_type": "code",
            "execution_count": 6,
            "metadata": {},
            "outputs": [],
            "source": [
                "dsName = \"CNR\"\n",
                "nClasses = 16\n",
                "\n",
                "pass\n",
                "# !python sVO.mVO.Checkpoints.py -IG {idx_gpu} -nC {nClasses} -mVOs {\"top-down\"} -dsN {dsName}"
            ]
        },
        {
            "cell_type": "code",
            "execution_count": 7,
            "metadata": {},
            "outputs": [],
            "source": [
                "dsName = \"LMDHG\"\n",
                "nClasses = 13\n",
                "\n",
                "for _vo_ in sVOs:\n",
                "    pass\n",
                "    # !python sVO.mVO.Checkpoints.py -IG {idx_gpu} -nC {nClasses} -mVOs {_vo_} -dsN {dsName}"
            ]
        },
        {
            "cell_type": "code",
            "execution_count": 8,
            "metadata": {},
            "outputs": [],
            "source": [
                "dsName = \"FPHA\"\n",
                "nClasses = 45\n",
                "\n",
                "for _vo_ in sVOs:\n",
                "    pass\n",
                "    # !python sVO.mVO.Checkpoints.py -IG {idx_gpu} -nC {nClasses} -mVOs {_vo_} -dsN {dsName}"
            ]
        },
        {
            "cell_type": "code",
            "execution_count": 9,
            "metadata": {},
            "outputs": [],
            "source": [
                "dsName = \"SHREC2017\"\n",
                "nClasses = 14  # 28\n",
                "\n",
                "for _vo_ in sVOs:\n",
                "    pass\n",
                "    # !python sVO.mVO.Checkpoints.py -IG {idx_gpu} -nC {nClasses} -mVOs {_vo_} -dsN {dsName}"
            ]
        },
        {
            "cell_type": "code",
            "execution_count": 10,
            "metadata": {},
            "outputs": [],
            "source": [
                "dsName = \"DHG1428\"\n",
                "nClasses = 14  # 28\n",
                "\n",
                "for _vo_ in sVOs:\n",
                "    pass\n",
                "    # !python sVO.mVO.Checkpoints.py -IG {idx_gpu} -nC {nClasses} -mVOs {_vo_} -dsN {dsName}"
            ]
        },
        {
            "attachments": {},
            "cell_type": "markdown",
            "metadata": {},
            "source": [
                "#### setting 2SA benchmarks\n",
                "---"
            ]
        },
        {
            "cell_type": "code",
            "execution_count": 13,
            "metadata": {},
            "outputs": [
                {
                    "name": "stdout",
                    "output_type": "stream",
                    "text": [
                        "\n",
                        ">> n_tasksGPUs: 30  |  taskDistribution: [30] \n"
                    ]
                }
            ],
            "source": [
                "idx_ds = 0\n",
                "dsName = [\"DHG1428\", \"FPHA\", \"LMDHG\", \"SHREC2017\"][idx_ds]\n",
                "nClasses = [14, 45, 13, 14][idx_ds]\n",
                "\n",
                "tasks = schedulerGPU_mVOs(idx_gpu=idx_gpu, depth=2, viewOrientations=sVOs, nClasses=[nClasses], nGPUs=1)\n",
                "\n",
                "for (_mvo_, _nc_) in tasks:\n",
                "    pass\n",
                "    print(_mvo_, \"::\", translateMVOs(_mvo_.split()), _nc_)\n",
                "    # !python sVO.mVO.Checkpoints.py -IG {idx_gpu} -nC {nClasses} -mVOs {_mvo_} -dsN {dsName}"
            ]
        },
        {
            "attachments": {},
            "cell_type": "markdown",
            "metadata": {},
            "source": [
                "---"
            ]
        },
        {
            "cell_type": "code",
            "execution_count": null,
            "metadata": {},
            "outputs": [],
            "source": []
        }
    ],
    "metadata": {
        "kernelspec": {
            "display_name": "hlu",
            "language": "python",
            "name": "python3"
        },
        "language_info": {
            "codemirror_mode": {
                "name": "ipython",
                "version": 3
            },
            "file_extension": ".py",
            "mimetype": "text/x-python",
            "name": "python",
            "nbconvert_exporter": "python",
            "pygments_lexer": "ipython3",
            "version": "3.8.5 (default, Sep  3 2020, 21:29:08) [MSC v.1916 64 bit (AMD64)]"
        },
        "vscode": {
            "interpreter": {
                "hash": "fd523941f93840f3066dc30de95cef5f0b3787e3e58410dcba83902e24288dc0"
            }
        }
    },
    "nbformat": 4,
    "nbformat_minor": 2
}
