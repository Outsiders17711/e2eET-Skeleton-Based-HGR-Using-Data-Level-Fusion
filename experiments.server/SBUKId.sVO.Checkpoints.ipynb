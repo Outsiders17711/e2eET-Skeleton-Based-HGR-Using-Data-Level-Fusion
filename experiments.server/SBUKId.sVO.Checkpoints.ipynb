{
    "cells": [
        {
            "attachments": {},
            "cell_type": "markdown",
            "metadata": {},
            "source": [
                "## e2eET Skeleton Based HGR Using Data-Level Fusion"
            ]
        },
        {
            "cell_type": "code",
            "execution_count": 2,
            "metadata": {},
            "outputs": [],
            "source": [
                "%reset -f\n",
                "from pathlib import Path\n",
                "from _helperFunctions import *\n",
                "\n",
                "breakerOfChains = False"
            ]
        },
        {
            "cell_type": "code",
            "execution_count": 3,
            "metadata": {},
            "outputs": [
                {
                    "name": "stdout",
                    "output_type": "stream",
                    "text": [
                        "d=WindowsPath('../images_d/SBUKId-3D-CVS.F01.8G-norm.960px-[allVOs.adaptiveMean]'): 1692\n",
                        "d=WindowsPath('../images_d/SBUKId-3D-CVS.F02.8G-norm.960px-[allVOs.adaptiveMean]'): 1692\n",
                        "d=WindowsPath('../images_d/SBUKId-3D-CVS.F03.8G-norm.960px-[allVOs.adaptiveMean]'): 1692\n",
                        "d=WindowsPath('../images_d/SBUKId-3D-CVS.F04.8G-norm.960px-[allVOs.adaptiveMean]'): 1692\n",
                        "d=WindowsPath('../images_d/SBUKId-3D-CVS.F05.8G-norm.960px-[allVOs.adaptiveMean]'): 1692\n"
                    ]
                }
            ],
            "source": [
                "for d in sorted(Path(\"../images_d/\").glob(\"SBUKId-3D-CVS.*\")):\n",
                "    if d.is_dir(): print(f\"{d=}: {len(list(d.rglob('*png')))}\")"
            ]
        },
        {
            "cell_type": "code",
            "execution_count": 4,
            "metadata": {},
            "outputs": [],
            "source": [
                "idx_gpu = 0\n",
                "sVOs = [\"top-down\", \"front-to\", \"front-away\", \"side-right\", \"side-left\", \"custom\"]"
            ]
        },
        {
            "attachments": {},
            "cell_type": "markdown",
            "metadata": {},
            "source": [
                "#### setting SBUKId 1SA benchmarks\n",
                "---"
            ]
        },
        {
            "cell_type": "code",
            "execution_count": null,
            "metadata": {},
            "outputs": [],
            "source": [
                "dsName = \"SBUKID\"\n",
                "nClasses = 8\n",
                "\n",
                "globalArgs = f\"-IG {idx_gpu} -nC {nClasses}\"\n",
                "trainingArgs = \"--bs 8 -IE 10 -IISE 10 -ISIS 224 276 328 -ISE 5 -IFT\"\n",
                "\n",
                "for f in range(5):\n",
                "    f_dsName = dsName + f\".F{f+1:02}\"\n",
                "    # print(f\"Training with cross-validation split {f_dsName} :: \\n >> \", end=\"\")\n",
                "\n",
                "    for _vo_ in sVOs:\n",
                "        pass\n",
                "        # print(f\"{_vo_}...\", end=\" >> \")\n",
                "        !python sVO.mVO.Checkpoints.py {globalArgs} -mVOs {_vo_} -dsN {f_dsName} {trainingArgs}\n",
                "        if breakerOfChains: break\n",
                "    \n",
                "    # print(\"Done! Done!\")\n",
                "    if breakerOfChains: break"
            ]
        },
        {
            "cell_type": "code",
            "execution_count": null,
            "metadata": {},
            "outputs": [],
            "source": [
                "dsName = \"SBUKID\"\n",
                "nClasses = 8\n",
                "\n",
                "globalArgs = f\"-IG {idx_gpu} -nC {nClasses}\"\n",
                "trainingArgs = \"--bs 8 -IE 10 -IISE 10 -ISIS 224 276 328 -ISE 5 -IFT\"\n",
                "\n",
                "for _vo_ in sVOs:\n",
                "    pass\n",
                "    # print(f\"{_vo_}...\", end=\" >> \")\n",
                "    !python sVO.mVO.Checkpoints.py {globalArgs} -mVOs {_vo_} -dsN {dsName} {trainingArgs}\n",
                "    if breakerOfChains: break\n",
                "    \n",
                "# print(\"Done! Done!\")"
            ]
        },
        {
            "cell_type": "markdown",
            "metadata": {},
            "source": [
                "---"
            ]
        },
        {
            "cell_type": "markdown",
            "metadata": {},
            "source": []
        }
    ],
    "metadata": {
        "kernelspec": {
            "display_name": "hlu",
            "language": "python",
            "name": "python3"
        },
        "language_info": {
            "codemirror_mode": {
                "name": "ipython",
                "version": 3
            },
            "file_extension": ".py",
            "mimetype": "text/x-python",
            "name": "python",
            "nbconvert_exporter": "python",
            "pygments_lexer": "ipython3",
            "version": "3.8.5"
        },
        "vscode": {
            "interpreter": {
                "hash": "fd523941f93840f3066dc30de95cef5f0b3787e3e58410dcba83902e24288dc0"
            }
        }
    },
    "nbformat": 4,
    "nbformat_minor": 2
}
