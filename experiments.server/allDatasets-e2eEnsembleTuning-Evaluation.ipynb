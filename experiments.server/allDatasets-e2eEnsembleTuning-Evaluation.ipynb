{
    "cells": [
        {
            "attachments": {},
            "cell_type": "markdown",
            "metadata": {},
            "source": [
                "## e2eET Skeleton Based HGR Using Data-Level Fusion"
            ]
        },
        {
            "cell_type": "code",
            "execution_count": 1,
            "metadata": {},
            "outputs": [],
            "source": [
                "from pathlib import Path\n",
                "idx_gpu = 0"
            ]
        },
        {
            "cell_type": "code",
            "execution_count": 2,
            "metadata": {},
            "outputs": [
                {
                    "name": "stdout",
                    "output_type": "stream",
                    "text": [
                        "d=PosixPath('../images_d/CNR-3d-original-1920px.1080px-[topdown]'): 1925\n",
                        "d=PosixPath('../images_d/DHG1428.mVOs-3d.14g-noisy(raw).960px-[allVOs].adaptive-mean'): 16800\n",
                        "d=PosixPath('../images_d/DHG1428.mVOs-3d.28g-noisy(raw).960px-[allVOs].adaptive-mean'): 16800\n",
                        "d=PosixPath('../images_d/FPHA.mVOs-dictPaperSplit-3d.V1-noisy(raw).960px-[allVOs].adaptive-mean'): 7050\n",
                        "d=PosixPath('../images_d/LMDHG.mVOs-dictPaperSplit-3d.V1-noisy(raw).960px-[allVOs].adaptive-mean'): 3654\n",
                        "d=PosixPath('../images_d/SHREC2017.mVOs-3d.14g-noisy(raw).960px-[allVOs].adaptive-mean'): 16800\n",
                        "d=PosixPath('../images_d/SHREC2017.mVOs-3d.28g-noisy(raw).960px-[allVOs].adaptive-mean'): 16800\n"
                    ]
                }
            ],
            "source": [
                "for d in sorted(Path(\"../images_d/\").iterdir()):\n",
                "    if d.is_dir(): print(f\"{d=}: {len(list(d.rglob('*png')))}\")"
            ]
        },
        {
            "cell_type": "markdown",
            "metadata": {},
            "source": [
                "---"
            ]
        },
        {
            "cell_type": "code",
            "execution_count": 3,
            "metadata": {},
            "outputs": [],
            "source": [
                "dsName = \"CNR\"\n",
                "nClasses = 16\n",
                "sVO = \"top-down\"\n",
                "\n",
                "pass\n",
                "# !python mVO.e2eEnsembleTuning.py -IG {idx_gpu} -nC {nClasses} -mVOs {sVO} -dsN {dsName} -IE {30} -IISE {0} -ISIS {\"0\"} -CEMC"
            ]
        },
        {
            "cell_type": "code",
            "execution_count": 4,
            "metadata": {},
            "outputs": [],
            "source": [
                "dsName = \"FPHA\"\n",
                "nClasses = 45\n",
                "mVO_triplet = \"front-away custom top-down\"\n",
                "\n",
                "pass\n",
                "# !python mVO.e2eEnsembleTuning.py -IG {idx_gpu} -nC {nClasses} -mVOs {mVO_triplet} -dsN {dsName} -IE {30} -IISE {0} -ISE {10} -ISIS {\"276 328\"} -CEMC"
            ]
        },
        {
            "cell_type": "code",
            "execution_count": 5,
            "metadata": {},
            "outputs": [],
            "source": [
                "dsName = \"LMDHG\"\n",
                "nClasses = 13\n",
                "mVO_triplet = \"custom front-away top-down\"\n",
                "\n",
                "pass\n",
                "# !python mVO.e2eEnsembleTuning.py -IG {idx_gpu} -nC {nClasses} -mVOs {mVO_triplet} -dsN {dsName} -IE {25} -IISE {0} -ISE {15} -ISIS {\"276\"} -CEMC"
            ]
        },
        {
            "cell_type": "code",
            "execution_count": 6,
            "metadata": {},
            "outputs": [],
            "source": [
                "dsName = \"SHREC2017\"\n",
                "mVO_triplet = \"front-away custom front-to\"\n",
                "\n",
                "nClasses = 14\n",
                "pass\n",
                "# !python mVO.e2eEnsembleTuning.py -IG {idx_gpu} -nC {nClasses} -mVOs {mVO_triplet} -dsN {dsName} -IISE {0} -ISIS {\"0\"} -CEMC\n",
                "\n",
                "nClasses = 28\n",
                "pass\n",
                "# !python mVO.e2eEnsembleTuning.py -IG {idx_gpu} -nC {nClasses} -mVOs {mVO_triplet} -dsN {dsName} -IISE {0} -ISIS {\"0\"} -CEMC"
            ]
        },
        {
            "cell_type": "code",
            "execution_count": 7,
            "metadata": {},
            "outputs": [],
            "source": [
                "dsName = \"DHG1428\"\n",
                "mVO_triplet = \"custom top-down front-away\"\n",
                "\n",
                "nClasses = 14\n",
                "pass\n",
                "# !python mVO.e2eEnsembleTuning.py -IG {idx_gpu} -nC {nClasses} -mVOs {mVO_triplet} -dsN {dsName} -IE {25} -IISE {0} -ISIS {\"0\"} -CEMC\n",
                "\n",
                "nClasses = 28\n",
                "pass\n",
                "# !python mVO.e2eEnsembleTuning.py -IG {idx_gpu} -nC {nClasses} -mVOs {mVO_triplet} -dsN {dsName} -IE {25} -IISE {0} -ISIS {\"0\"} -CEMC"
            ]
        },
        {
            "cell_type": "code",
            "execution_count": null,
            "metadata": {},
            "outputs": [],
            "source": []
        }
    ],
    "metadata": {
        "kernelspec": {
            "display_name": "hlu",
            "language": "python",
            "name": "python3"
        },
        "language_info": {
            "codemirror_mode": {
                "name": "ipython",
                "version": 3
            },
            "file_extension": ".py",
            "mimetype": "text/x-python",
            "name": "python",
            "nbconvert_exporter": "python",
            "pygments_lexer": "ipython3",
            "version": "3.8.5 (default, Sep  3 2020, 21:29:08) [MSC v.1916 64 bit (AMD64)]"
        },
        "vscode": {
            "interpreter": {
                "hash": "fd523941f93840f3066dc30de95cef5f0b3787e3e58410dcba83902e24288dc0"
            }
        }
    },
    "nbformat": 4,
    "nbformat_minor": 2
}
