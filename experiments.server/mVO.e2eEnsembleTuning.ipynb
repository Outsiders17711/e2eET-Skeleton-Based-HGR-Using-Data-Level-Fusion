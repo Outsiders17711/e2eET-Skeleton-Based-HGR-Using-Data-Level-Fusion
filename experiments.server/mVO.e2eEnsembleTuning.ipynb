{
    "cells": [
        {
            "attachments": {},
            "cell_type": "markdown",
            "metadata": {},
            "source": [
                "## e2eET Skeleton Based HGR Using Data-Level Fusion"
            ]
        },
        {
            "cell_type": "code",
            "execution_count": 1,
            "metadata": {},
            "outputs": [],
            "source": [
                "from pathlib import Path\n",
                "from _helperFunctions import *\n",
                "idx_gpu = 0"
            ]
        },
        {
            "cell_type": "code",
            "execution_count": null,
            "metadata": {},
            "outputs": [
                {
                    "name": "stdout",
                    "output_type": "stream",
                    "text": [
                        "d=PosixPath('../images_d/CNR-3d-original-1920px.1080px-[topdown]'): 1925\n",
                        "d=PosixPath('../images_d/DHG1428.mVOs-3d.14g-noisy(raw).960px-[allVOs].adaptive-mean'): 16800\n",
                        "d=PosixPath('../images_d/DHG1428.mVOs-3d.28g-noisy(raw).960px-[allVOs].adaptive-mean'): 16800\n",
                        "d=PosixPath('../images_d/FPHA.mVOs-dictPaperSplit-3d.V1-noisy(raw).960px-[allVOs].adaptive-mean'): 7050\n",
                        "d=PosixPath('../images_d/LMDHG.mVOs-dictPaperSplit-3d.V1-noisy(raw).960px-[allVOs].adaptive-mean'): 3654\n",
                        "d=PosixPath('../images_d/SHREC2017.mVOs-3d.14g-noisy(raw).960px-[allVOs].adaptive-mean'): 16800\n",
                        "d=PosixPath('../images_d/SHREC2017.mVOs-3d.28g-noisy(raw).960px-[allVOs].adaptive-mean'): 16800\n"
                    ]
                }
            ],
            "source": [
                "for d in sorted(Path(\"../images_d/\").iterdir()):\n",
                "    if d.is_dir(): print(f\"{d=}: {len(list(d.rglob('*png')))}\")"
            ]
        },
        {
            "attachments": {},
            "cell_type": "markdown",
            "metadata": {},
            "source": [
                "### Top-4 sVOs & Top-8 mVOs\n",
                "---"
            ]
        },
        {
            "cell_type": "code",
            "execution_count": 3,
            "metadata": {},
            "outputs": [
                {
                    "name": "stdout",
                    "output_type": "stream",
                    "text": [
                        "\n",
                        ">> n_tasksGPUs: 4  |  taskDistribution: [1, 1, 1, 1] \n",
                        "top-down :: [td] 45\n",
                        "\n",
                        ">> n_tasksGPUs: 8  |  taskDistribution: [2, 2, 2, 2] \n",
                        "side-left front-away :: [sl_fa] 45\n",
                        "top-down custom :: [td_cm] 45\n"
                    ]
                }
            ],
            "source": [
                "dsName = \"FPHA\"\n",
                "nClasses = 45\n",
                "\n",
                "sVOs = [\"top-down\", \"front-to\", \"custom\", \"side-left\"]\n",
                "tasks = schedulerGPU_mVOs(idx_gpu=idx_gpu, depth=1, viewOrientations=sVOs, nClasses=[nClasses])\n",
                "for (_mvo_, _nc_) in tasks:\n",
                "    print(_mvo_, \"::\", translateMVOs(_mvo_.split()), _nc_)\n",
                "    pass\n",
                "    # !python mVO.e2eEnsembleTuning.py -IG {idx_gpu} -nC {_nc_} -mVOs {_mvo_} -dsN {dsName} -IISE {0} -ISIS {\"0\"}\n",
                "\n",
                "mVOs = [\"side-left front-away\", \"top-down custom\", \"side-right top-down\", \"top-down front-away\", \"top-down side-left\", \"front-to top-down\", \"front-to custom\", \"front-away custom\"]\n",
                "tasks = schedulerGPU_mVOs(idx_gpu=idx_gpu, depth=1, viewOrientations=mVOs, nClasses=[nClasses])\n",
                "for (_mvo_, _nc_) in tasks:\n",
                "    print(_mvo_, \"::\", translateMVOs(_mvo_.split()), _nc_)\n",
                "    pass\n",
                "    # !python mVO.e2eEnsembleTuning.py -IG {idx_gpu} -nC {_nc_} -mVOs {_mvo_} -dsN {dsName} -IISE {0} -ISIS {\"0\"}"
            ]
        },
        {
            "cell_type": "code",
            "execution_count": 4,
            "metadata": {},
            "outputs": [
                {
                    "name": "stdout",
                    "output_type": "stream",
                    "text": [
                        "\n",
                        ">> n_tasksGPUs: 4  |  taskDistribution: [1, 1, 1, 1] \n",
                        "top-down :: [td] 13\n",
                        "\n",
                        ">> n_tasksGPUs: 8  |  taskDistribution: [2, 2, 2, 2] \n",
                        "front-to side-left :: [ft_sl] 13\n",
                        "side-right front-to :: [sr_ft] 13\n"
                    ]
                }
            ],
            "source": [
                "dsName = \"LMDHG\"\n",
                "nClasses = 13\n",
                "\n",
                "sVOs = [\"top-down\", \"front-away\", \"front-to\", \"side-right\"]\n",
                "tasks = schedulerGPU_mVOs(idx_gpu=idx_gpu, depth=1, viewOrientations=sVOs, nClasses=[nClasses])\n",
                "for (_mvo_, _nc_) in tasks:\n",
                "    print(_mvo_, \"::\", translateMVOs(_mvo_.split()), _nc_)\n",
                "    pass\n",
                "    # !python mVO.e2eEnsembleTuning.py -IG {idx_gpu} -nC {_nc_} -mVOs {_mvo_} -dsN {dsName} -IISE {0} -ISIS {\"0\"}\n",
                "\n",
                "mVOs = [\"front-to side-left\", \"side-right front-to\", \"custom top-down\", \"side-left front-away\", \"custom front-to\", \"side-left front-to\", \"custom front-away\", \"front-to top-down\"]\n",
                "tasks = schedulerGPU_mVOs(idx_gpu=idx_gpu, depth=1, viewOrientations=mVOs, nClasses=[nClasses])\n",
                "for (_mvo_, _nc_) in tasks:\n",
                "    print(_mvo_, \"::\", translateMVOs(_mvo_.split()), _nc_)\n",
                "    pass\n",
                "    # !python mVO.e2eEnsembleTuning.py -IG {idx_gpu} -nC {_nc_} -mVOs {_mvo_} -dsN {dsName} -IISE {0} -ISIS {\"0\"}"
            ]
        },
        {
            "cell_type": "code",
            "execution_count": 5,
            "metadata": {},
            "outputs": [
                {
                    "name": "stdout",
                    "output_type": "stream",
                    "text": [
                        "\n",
                        ">> n_tasksGPUs: 4  |  taskDistribution: [1, 1, 1, 1] \n",
                        "front-away :: [fa] 14\n",
                        "\n",
                        ">> n_tasksGPUs: 8  |  taskDistribution: [2, 2, 2, 2] \n",
                        "front-to custom :: [ft_cm] 14\n",
                        "side-right front-to :: [sr_ft] 14\n"
                    ]
                }
            ],
            "source": [
                "dsName = \"SHREC2017\"\n",
                "nClasses = 14\n",
                "\n",
                "sVOs = [\"front-away\", \"custom\", \"front-to\", \"side-left\"]\n",
                "tasks = schedulerGPU_mVOs(idx_gpu=idx_gpu, depth=1, viewOrientations=sVOs, nClasses=[nClasses])\n",
                "for (_mvo_, _nc_) in tasks:\n",
                "    print(_mvo_, \"::\", translateMVOs(_mvo_.split()), _nc_)\n",
                "    pass\n",
                "    # !python mVO.e2eEnsembleTuning.py -IG {idx_gpu} -nC {_nc_} -mVOs {_mvo_} -dsN {dsName} -IISE {0} -ISIS {\"0\"}\n",
                "\n",
                "mVOs = [\"front-to custom\", \"side-right front-to\", \"side-right top-down\", \"front-to side-left\", \"side-left top-down\", \"top-down side-left\", \"front-away custom\", \"top-down side-right\"]\n",
                "tasks = schedulerGPU_mVOs(idx_gpu=idx_gpu, depth=1, viewOrientations=mVOs, nClasses=[nClasses])\n",
                "for (_mvo_, _nc_) in tasks:\n",
                "    print(_mvo_, \"::\", translateMVOs(_mvo_.split()), _nc_)\n",
                "    pass\n",
                "    # !python mVO.e2eEnsembleTuning.py -IG {idx_gpu} -nC {_nc_} -mVOs {_mvo_} -dsN {dsName} -IISE {0} -ISIS {\"0\"}"
            ]
        },
        {
            "cell_type": "code",
            "execution_count": 6,
            "metadata": {},
            "outputs": [
                {
                    "name": "stdout",
                    "output_type": "stream",
                    "text": [
                        "\n",
                        ">> n_tasksGPUs: 4  |  taskDistribution: [1, 1, 1, 1] \n",
                        "front-to :: [ft] 14\n",
                        "\n",
                        ">> n_tasksGPUs: 8  |  taskDistribution: [2, 2, 2, 2] \n",
                        "custom front-to :: [cm_ft] 14\n",
                        "custom top-down :: [cm_td] 14\n"
                    ]
                }
            ],
            "source": [
                "dsName = \"DHG1428\"\n",
                "nClasses = 14\n",
                "\n",
                "sVOs = [\"front-to\", \"front-away\", \"top-down\", \"custom\"]\n",
                "tasks = schedulerGPU_mVOs(idx_gpu=idx_gpu, depth=1, viewOrientations=sVOs, nClasses=[nClasses])\n",
                "for (_mvo_, _nc_) in tasks:\n",
                "    print(_mvo_, \"::\", translateMVOs(_mvo_.split()), _nc_)\n",
                "    pass\n",
                "    # !python mVO.e2eEnsembleTuning.py -IG {idx_gpu} -nC {_nc_} -mVOs {_mvo_} -dsN {dsName} -IISE {0} -ISIS {\"0\"}\n",
                "\n",
                "mVOs = [\"custom front-to\", \"custom top-down\", \"front-away top-down\", \"side-left top-down\", \"side-right top-down\", \"top-down custom\", \"top-down front-away\", \"top-down side-right\"]\n",
                "tasks = schedulerGPU_mVOs(idx_gpu=idx_gpu, depth=1, viewOrientations=mVOs, nClasses=[nClasses])\n",
                "for (_mvo_, _nc_) in tasks:\n",
                "    print(_mvo_, \"::\", translateMVOs(_mvo_.split()), _nc_)\n",
                "    pass\n",
                "    # !python mVO.e2eEnsembleTuning.py -IG {idx_gpu} -nC {_nc_} -mVOs {_mvo_} -dsN {dsName} -IISE {0} -ISIS {\"0\"}"
            ]
        },
        {
            "attachments": {},
            "cell_type": "markdown",
            "metadata": {},
            "source": [
                "### Top-4 e2eET mVOs\n",
                "---"
            ]
        },
        {
            "cell_type": "code",
            "execution_count": 7,
            "metadata": {},
            "outputs": [
                {
                    "name": "stdout",
                    "output_type": "stream",
                    "text": [
                        "\n",
                        ">> n_tasksGPUs: 8  |  taskDistribution: [2, 2, 2, 2] \n",
                        "top-down custom front-away :: [td_cm_fa] 14\n",
                        "top-down custom side-right :: [td_cm_sr] 14\n"
                    ]
                }
            ],
            "source": [
                "dsName = \"FPHA\"\n",
                "nClasses = 45\n",
                "mVOs = [\"top-down custom\", \"top-down front-away\", \"front-to custom\", \"front-away custom\"]\n",
                "\n",
                "dsName = \"LMDHG\"\n",
                "nClasses = 13\n",
                "mVOs = [\"side-left front-away\", \"side-left front-to\", \"custom front-away\", \"front-to top-down\"]\n",
                "\n",
                "dsName = \"SHREC2017\"\n",
                "nClasses = 14\n",
                "mVOs = [\"front-to custom\", \"side-right front-to\", \"front-to side-left\", \"front-away custom\"]\n",
                "\n",
                "dsName = \"DHG1428\"\n",
                "nClasses = 14\n",
                "mVOs = [\"top-down custom\", \"custom top-down\", \"side-right top-down\", \"front-away top-down\"]\n",
                "\n",
                "# ---\n",
                "l_mVOs, u_mVOs, x3_mVOs = [i.split() for i in mVOs], set(\" \".join(mVOs).split()), []\n",
                "for _mvo in l_mVOs:\n",
                "    for _vo in u_mVOs:\n",
                "        if _vo not in _mvo: x3_mVOs.append(\" \".join(_mvo+[_vo]))\n",
                "\n",
                "tasks = schedulerGPU_mVOs(idx_gpu=idx_gpu, depth=1, viewOrientations=x3_mVOs, nClasses=[nClasses])\n",
                "for (_mvo_, _nc_) in tasks:\n",
                "    print(_mvo_, \"::\", translateMVOs(_mvo_.split()), _nc_)\n",
                "    pass\n",
                "    # !python mVO.e2eEnsembleTuning.py -IG {idx_gpu} -nC {_nc_} -mVOs {_mvo_} -dsN {dsName} -IISE {0} -ISIS {\"0\"}\n",
                "    # break"
            ]
        },
        {
            "cell_type": "code",
            "execution_count": null,
            "metadata": {},
            "outputs": [],
            "source": []
        }
    ],
    "metadata": {
        "kernelspec": {
            "display_name": "hlu",
            "language": "python",
            "name": "python3"
        },
        "language_info": {
            "codemirror_mode": {
                "name": "ipython",
                "version": 3
            },
            "file_extension": ".py",
            "mimetype": "text/x-python",
            "name": "python",
            "nbconvert_exporter": "python",
            "pygments_lexer": "ipython3",
            "version": "3.8.5"
        },
        "vscode": {
            "interpreter": {
                "hash": "fd523941f93840f3066dc30de95cef5f0b3787e3e58410dcba83902e24288dc0"
            }
        }
    },
    "nbformat": 4,
    "nbformat_minor": 2
}
