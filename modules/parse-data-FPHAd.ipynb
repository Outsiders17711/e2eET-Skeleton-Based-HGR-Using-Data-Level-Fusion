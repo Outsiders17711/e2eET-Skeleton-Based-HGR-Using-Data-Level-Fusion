{
  "cells": [
    {
      "cell_type": "code",
      "execution_count": 39,
      "metadata": {
        "id": "2N5i0LEcxRtT"
      },
      "outputs": [],
      "source": [
        "import pickle\n",
        "import warnings\n",
        "import numpy as np\n",
        "from pathlib import Path\n",
        "from scipy import ndimage\n",
        "from sklearn.model_selection import train_test_split\n",
        "\n",
        "# warnings.filterwarnings(\"ignore\", message=\".*loadtxt: Empty input file.*\")"
      ]
    },
    {
      "cell_type": "markdown",
      "metadata": {},
      "source": [
        "---"
      ]
    },
    {
      "cell_type": "code",
      "execution_count": 40,
      "metadata": {},
      "outputs": [],
      "source": [
        "REORDERING_INDICES = np.array([0, 1, 6, 7, 8, 2, 9, 10, 11, 3, 12, 13, 14, 4, 15, 16, 17, 5, 18, 19, 20])\n",
        "\n",
        "FPHA_CAM_EXTRINSICS = np.array(\n",
        "    [\n",
        "        [0.999988496304, -0.00468848412856, 0.000982563360594, 25.7],\n",
        "        [0.00469115935266, 0.999985218048, -0.00273845880292, 1.22],\n",
        "        [-0.000969709653873, 0.00274303671904, 0.99999576807, 3.902],\n",
        "        [0, 0, 0, 1],\n",
        "    ]\n",
        ")\n",
        "\n",
        "FPHA_CAM_INTRINSICS = np.array(\n",
        "    [\n",
        "        [1395.749023, 0, 935.732544],\n",
        "        [0, 1395.749268, 540.681030],\n",
        "        [0, 0, 1],\n",
        "    ]\n",
        ")"
      ]
    },
    {
      "cell_type": "code",
      "execution_count": 41,
      "metadata": {},
      "outputs": [],
      "source": [
        "def _resize_gestures(in_gest_seqs, target_length=250):\n",
        "    \"\"\"Resize the time series by interpolating them to the same length\"\"\"\n",
        "\n",
        "    out_gest_seqs = []\n",
        "    for sequence in in_gest_seqs:\n",
        "        zoomed_skeletons = []\n",
        "        for skeleton in range(np.size(sequence, 1)):\n",
        "            _zoom_skel = ndimage.zoom(sequence.T[skeleton], target_length / len(sequence), mode=\"reflect\")\n",
        "            zoomed_skeletons.append(_zoom_skel)\n",
        "\n",
        "        out_gest_seqs.append(np.array(zoomed_skeletons).T)\n",
        "\n",
        "    return np.array(out_gest_seqs)"
      ]
    },
    {
      "cell_type": "code",
      "execution_count": 42,
      "metadata": {},
      "outputs": [],
      "source": [
        "def load_txt_gestures(type, resize_length, root, verbose=False):\n",
        "    \"\"\"\n",
        "    Get the 3D pose gestures sequences, and their associated labels.\n",
        "    Output:  a tuple of (gestures, labels, subjects).\n",
        "    \"\"\"\n",
        "    \n",
        "    # The following files are empty:\n",
        "    #     [1] ./FPHA/Hand_Pose_Annotation_v1/Subject_2/close_milk/4/skeleton.txt\n",
        "    #     [2] ./FPHA/Hand_Pose_Annotation_v1/Subject_2/put_tea_bag/2/skeleton.txt\n",
        "    #     [3] ./FPHA/Hand_Pose_Annotation_v1/Subject_4/flip_sponge/2/skeleton.txt\n",
        "    # The following files are missing:\n",
        "    #     [1] ./FPHA/Hand_Pose_Annotation_v1/Subject_2/charge_cell_phone/2/skeleton.txt\n",
        "\n",
        "    # _____\n",
        "    assert \"FPHA\" in root, \"Check that the correct dataset folder is provided!\"\n",
        "    assert type in [\"2d\", \"3d\"], \"Data type has to be specified ['2d' / '3d']\"\n",
        "\n",
        "    root = Path(f\"{root}/Hand_Pose_Annotation_v1\")\n",
        "    filenames = list(root.rglob(\"*skeleton.txt\"))\n",
        "    \n",
        "    # _____\n",
        "    gestures = []\n",
        "    labels = []\n",
        "    subjects = []\n",
        "\n",
        "    for f in filenames:\n",
        "        with warnings.catch_warnings():\n",
        "            warnings.simplefilter(\"ignore\")\n",
        "            _gesture = np.genfromtxt(f, dtype=np.float32)\n",
        "\n",
        "        if verbose: print(f\"{f= } | {_gesture.shape= }\")\n",
        "        if not _gesture.tolist():\n",
        "            print(f\"Warning: empty file @'{str(f)}'; Skipping...\")\n",
        "            continue\n",
        "\n",
        "        # apply transformations; these operations are taken from the source code\n",
        "        _transformed_gesture = []\n",
        "        _gesture = _gesture[:, 1:].reshape(-1, 21, 3)\n",
        "        \n",
        "        for _skel in _gesture:\n",
        "            # reorder indices\n",
        "            _skel = _skel[REORDERING_INDICES]\n",
        "\n",
        "            # apply camera extrinsic to hand skeleton; for 3d data\n",
        "            skel_hom3d = np.concatenate([_skel, np.ones([_skel.shape[0], 1])], 1)\n",
        "            skel_camcoords = FPHA_CAM_EXTRINSICS.dot(skel_hom3d.transpose()).transpose()[:, :3]\n",
        "            skel_camcoords = skel_camcoords.astype(np.float32)\n",
        "\n",
        "            if type == \"3d\":\n",
        "                _transformed_gesture.append(skel_camcoords)\n",
        "\n",
        "            elif type == \"2d\":\n",
        "                # apply camera intrinsic to hand skeleton; for 2d data\n",
        "                skel_hom2d = np.array(FPHA_CAM_INTRINSICS).dot(skel_camcoords.transpose()).transpose()\n",
        "                skel_proj = (skel_hom2d / skel_hom2d[:, 2:])[:, :2]\n",
        "                _transformed_gesture.append(skel_proj)\n",
        "\n",
        "        _gesture = np.array(_transformed_gesture).reshape(_gesture.shape[0], -1)\n",
        "        gestures.append(_gesture)\n",
        "\n",
        "        _label = f.parent.parent\n",
        "        # _subject_label = _label.parent.name\n",
        "        _label = _label.name.replace(\"_\", \" \").title().replace(\" \", \"\")\n",
        "        labels.append(_label)\n",
        "\n",
        "        # _subject_label += f\"_{_label}\"\n",
        "        _subject_label = str(f.parent.relative_to(root)).replace('\\\\', '/')\n",
        "        subjects.append(_subject_label)\n",
        "\n",
        "        if verbose: print(f\"{_gesture.shape= } | {_label= } | {_subject_label= }\")\n",
        "        # break\n",
        "\n",
        "    if resize_length: gestures = _resize_gestures(gestures, target_length=resize_length)\n",
        "    assert len(gestures) == len(labels) == len(subjects)\n",
        "    return gestures, labels, subjects\n",
        "\n",
        "# _ = load_txt_gestures(type=\"3d\", resize_length=None, root=\"../../FPHA\")"
      ]
    },
    {
      "cell_type": "code",
      "execution_count": 43,
      "metadata": {},
      "outputs": [],
      "source": [
        "def _write_data(data, filepath):\n",
        "    \"\"\"Save the dataset to a file. Note: data is a dict with keys 'X_train', ...\"\"\"\n",
        "\n",
        "    with open(filepath, \"wb\") as output_file: pickle.dump(data, output_file)"
      ]
    },
    {
      "cell_type": "code",
      "execution_count": 44,
      "metadata": {},
      "outputs": [],
      "source": [
        "def load_pckl_data(filepath):\n",
        "    \"\"\"\n",
        "    Returns hand gesture sequences (X) and their associated labels (Y).\n",
        "    \"\"\"\n",
        "\n",
        "    file = open(filepath, \"rb\")\n",
        "    data = pickle.load(file, encoding=\"latin1\") # change to 'latin1' to 'utf8' if the data does not load\n",
        "    file.close()\n",
        "\n",
        "    return (\n",
        "        data[\"X_train\"], data[\"X_valid\"],\n",
        "        data[\"train_labels\"], data[\"valid_labels\"],\n",
        "        data[\"train_subjects\"], data[\"valid_subjects\"],\n",
        "    )"
      ]
    },
    {
      "cell_type": "code",
      "execution_count": 45,
      "metadata": {},
      "outputs": [],
      "source": [
        "def create_train_valid_data(type, root=\"../../FPHA\", resize_length=None, seed=17711, save_path=None):\n",
        "    assert type in [\"2d\", \"3d\"], \"Data type has to be specified ['2d' / '3d']\"\n",
        "    \n",
        "    # load the dataset gesture sequences from file(s)\n",
        "    gestures, labels, subjects = load_txt_gestures(type, resize_length, root)\n",
        "    print(\">>> <gestures, labels, subjects> loaded successfully!\")\n",
        "    \n",
        "    # split into train and validation subsets \n",
        "    (\n",
        "        X_train, X_valid,\n",
        "        train_labels, valid_labels,\n",
        "        train_subjects, valid_subjects,\n",
        "    ) = train_test_split(gestures, labels, subjects, test_size=0.30, random_state=seed)\n",
        "    print(f\">>> {type} training ({X_train.shape}) and validation ({X_valid.shape}) data created.\")\n",
        "    \n",
        "    # save the test-train data to disk\n",
        "    if save_path is None: save_path = \"../datasets\"\n",
        "    save_path = f\"{save_path}/FPHA_{type}_dictTVS_l{resize_length}_s{len(gestures)}.pckl\"\n",
        "        \n",
        "    data = {\n",
        "        \"X_train\": X_train, \"X_valid\": X_valid,\n",
        "        \"train_labels\": train_labels, \"valid_labels\": valid_labels,\n",
        "        \"train_subjects\": train_subjects, \"valid_subjects\": valid_subjects,\n",
        "    }\n",
        "    _write_data(data, filepath=save_path)\n",
        "    print(f\">>> TVS train-valid data written to <{save_path}> successfully!\")"
      ]
    },
    {
      "cell_type": "code",
      "execution_count": 46,
      "metadata": {},
      "outputs": [],
      "source": [
        "def create_cross_validation_data(subject_idx, type, root=\"../../FPHA\", resize_length=None, save_path=None):\n",
        "    assert type(subject_idx) is int, \"Subject index has to be an integer=[1, 6]!\"\n",
        "    assert subject_idx in list(range(1,7)), \"Subject index has to be an integer=[1, 6]!\"\n",
        "    assert type in [\"2d\", \"3d\"], \"Data type has to be specified ['2d' / '3d']\"\n",
        "    \n",
        "    # load the dataset gesture sequences from file(s)\n",
        "    gestures, labels, subjects = load_txt_gestures(type, resize_length, root)\n",
        "    print(\">>> <gestures, labels, subjects> loaded successfully!\")\n",
        "    \n",
        "    # split into train and validation subsets\n",
        "    _subject = f\"Subject_{subject_idx}\"\n",
        "    idxs_valid = [idx for idx, subj in enumerate(subjects) if subj.startswith(_subject)]\n",
        "    idxs_train = [idx for idx, subj in enumerate(subjects) if not subj.startswith(_subject)]\n",
        "\n",
        "    X_train, X_valid = gestures[idxs_train], gestures[idxs_valid]  # type:ignore\n",
        "    train_labels = np.array(labels)[idxs_train].tolist()\n",
        "    valid_labels = np.array(labels)[idxs_valid].tolist()\n",
        "    train_subjects = np.array(subjects)[idxs_train].tolist()\n",
        "    valid_subjects = np.array(subjects)[idxs_valid].tolist()\n",
        "    print(f\">>> {type} training ({X_train.shape}) and validation ({X_valid.shape}) data created.\")\n",
        "    \n",
        "    # save the test-train data to disk\n",
        "    if save_path is None: save_path = \"../datasets\"\n",
        "    save_path = f\"{save_path}/FPHA_{type}_dictCVS__l{resize_length}_s{subject_idx}.pckl\"\n",
        "\n",
        "    data = {\n",
        "        \"X_train\": X_train, \"X_valid\": X_valid,\n",
        "        \"train_labels\": train_labels, \"valid_labels\": valid_labels,\n",
        "        \"train_subjects\": train_subjects, \"valid_subjects\": valid_subjects,\n",
        "    }\n",
        "    _write_data(data, filepath=save_path)\n",
        "    print(f\">>> CVS train-valid data written to <{save_path}> successfully!\")"
      ]
    },
    {
      "cell_type": "code",
      "execution_count": 55,
      "metadata": {},
      "outputs": [],
      "source": [
        "def create_FPHA_paper_split(type, root=\"../../FPHA\", resize_length=None, seed=17711, save_path=None):\n",
        "    assert type in [\"2d\", \"3d\"], \"Data type has to be specified ['2d' / '3d']\"\n",
        "    \n",
        "    # load the dataset gesture sequences from file(s)\n",
        "    gestures, labels, subjects = load_txt_gestures(type, resize_length, root)\n",
        "    print(\">>> <gestures, labels, subjects> loaded successfully!\")\n",
        "\n",
        "    # load the paper data splits from file\n",
        "    with open(f\"{root}/data_split_action_recognition.txt\", \"r\") as f:\n",
        "        splits = [l.split()[0] for l in f.readlines()]\n",
        "    \n",
        "    # split into train and validation subsets \n",
        "    train_split, valid_split = splits[1:601], splits[602:]\n",
        "    idxs_valid = [i for i, i_subject in enumerate(subjects) if i_subject in valid_split]\n",
        "    idxs_train = [i for i, i_subject in enumerate(subjects) if i_subject in train_split]\n",
        "\n",
        "    X_train, X_valid = gestures[idxs_train], gestures[idxs_valid]  # type:ignore\n",
        "    train_labels = np.array(labels)[idxs_train].tolist()\n",
        "    valid_labels = np.array(labels)[idxs_valid].tolist()\n",
        "    train_subjects = np.array(subjects)[idxs_train].tolist()\n",
        "    valid_subjects = np.array(subjects)[idxs_valid].tolist()\n",
        "    print(f\">>> {type} training ({X_train.shape}) and validation ({X_valid.shape}) data created.\")\n",
        "    \n",
        "    # save the test-train data to disk\n",
        "    if save_path is None: save_path = \"../datasets\"\n",
        "    save_path = f\"{save_path}/FPHA_{type}_dictPaperSplit_l{resize_length}_s{len(gestures)}.pckl\"\n",
        "        \n",
        "    data = {\n",
        "        \"X_train\": X_train, \"X_valid\": X_valid,\n",
        "        \"train_labels\": train_labels, \"valid_labels\": valid_labels,\n",
        "        \"train_subjects\": train_subjects, \"valid_subjects\": valid_subjects,\n",
        "    }\n",
        "    _write_data(data, filepath=save_path)\n",
        "    print(f\">>> FPHA paper train-valid data written to <{save_path}> successfully!\")"
      ]
    },
    {
      "cell_type": "markdown",
      "metadata": {},
      "source": [
        "---"
      ]
    },
    {
      "cell_type": "code",
      "execution_count": 48,
      "metadata": {},
      "outputs": [
        {
          "name": "stdout",
          "output_type": "stream",
          "text": [
            "Warning: empty file @'..\\..\\FPHA\\Hand_Pose_Annotation_v1\\Subject_2\\close_milk\\4\\skeleton.txt'; Skipping...\n",
            "Warning: empty file @'..\\..\\FPHA\\Hand_Pose_Annotation_v1\\Subject_2\\put_tea_bag\\2\\skeleton.txt'; Skipping...\n",
            "Warning: empty file @'..\\..\\FPHA\\Hand_Pose_Annotation_v1\\Subject_4\\flip_sponge\\2\\skeleton.txt'; Skipping...\n",
            ">>> <gestures, labels, subjects> loaded successfully!\n",
            ">>> 2d training ((822, 250, 42)) and validation ((353, 250, 42)) data created.\n",
            ">>> TVS train-valid data written to <../datasets/FPHA_2d_dictTVS_l250_s1175.pckl> successfully!\n",
            "Warning: empty file @'..\\..\\FPHA\\Hand_Pose_Annotation_v1\\Subject_2\\close_milk\\4\\skeleton.txt'; Skipping...\n",
            "Warning: empty file @'..\\..\\FPHA\\Hand_Pose_Annotation_v1\\Subject_2\\put_tea_bag\\2\\skeleton.txt'; Skipping...\n",
            "Warning: empty file @'..\\..\\FPHA\\Hand_Pose_Annotation_v1\\Subject_4\\flip_sponge\\2\\skeleton.txt'; Skipping...\n",
            ">>> <gestures, labels, subjects> loaded successfully!\n",
            ">>> 3d training ((822, 250, 63)) and validation ((353, 250, 63)) data created.\n",
            ">>> TVS train-valid data written to <../datasets/FPHA_3d_dictTVS_l250_s1175.pckl> successfully!\n"
          ]
        }
      ],
      "source": [
        "create_train_valid_data(type=\"2d\", resize_length=250)\n",
        "create_train_valid_data(type=\"3d\", resize_length=250)"
      ]
    },
    {
      "cell_type": "code",
      "execution_count": 56,
      "metadata": {},
      "outputs": [
        {
          "name": "stdout",
          "output_type": "stream",
          "text": [
            "Warning: empty file @'..\\..\\FPHA\\Hand_Pose_Annotation_v1\\Subject_2\\close_milk\\4\\skeleton.txt'; Skipping...\n",
            "Warning: empty file @'..\\..\\FPHA\\Hand_Pose_Annotation_v1\\Subject_2\\put_tea_bag\\2\\skeleton.txt'; Skipping...\n",
            "Warning: empty file @'..\\..\\FPHA\\Hand_Pose_Annotation_v1\\Subject_4\\flip_sponge\\2\\skeleton.txt'; Skipping...\n",
            ">>> <gestures, labels, subjects> loaded successfully!\n",
            ">>> 2d training ((600, 250, 42)) and validation ((575, 250, 42)) data created.\n",
            ">>> FPHA paper train-valid data written to <../datasets/FPHA_2d_dictPaperSplit_l250_s1175.pckl> successfully!\n",
            "Warning: empty file @'..\\..\\FPHA\\Hand_Pose_Annotation_v1\\Subject_2\\close_milk\\4\\skeleton.txt'; Skipping...\n",
            "Warning: empty file @'..\\..\\FPHA\\Hand_Pose_Annotation_v1\\Subject_2\\put_tea_bag\\2\\skeleton.txt'; Skipping...\n",
            "Warning: empty file @'..\\..\\FPHA\\Hand_Pose_Annotation_v1\\Subject_4\\flip_sponge\\2\\skeleton.txt'; Skipping...\n",
            ">>> <gestures, labels, subjects> loaded successfully!\n",
            ">>> 3d training ((600, 250, 63)) and validation ((575, 250, 63)) data created.\n",
            ">>> FPHA paper train-valid data written to <../datasets/FPHA_3d_dictPaperSplit_l250_s1175.pckl> successfully!\n"
          ]
        }
      ],
      "source": [
        "create_FPHA_paper_split(type=\"2d\", resize_length=250)\n",
        "create_FPHA_paper_split(type=\"3d\", resize_length=250)"
      ]
    },
    {
      "cell_type": "code",
      "execution_count": 50,
      "metadata": {},
      "outputs": [],
      "source": [
        "# create_cross_validation_data(subject_idx=12, type=\"2d\", resize_length=250)\n",
        "# create_cross_validation_data(subject_idx=12, type=\"3d\", resize_length=250)"
      ]
    },
    {
      "cell_type": "code",
      "execution_count": 57,
      "metadata": {},
      "outputs": [],
      "source": [
        "# (\n",
        "#     X_train, X_valid,\n",
        "#     train_labels, valid_labels,\n",
        "#     train_subjects, valid_subjects,\n",
        "# ) = load_pckl_data(filepath=\"../datasets/FPHA_3d_dictPaperSplit_l250_s1175.pckl\")"
      ]
    },
    {
      "cell_type": "code",
      "execution_count": null,
      "metadata": {},
      "outputs": [],
      "source": []
    }
  ],
  "metadata": {
    "colab": {
      "collapsed_sections": [],
      "name": "deep_learning_hand_gesture_recognition_01_data_download.ipynb",
      "provenance": []
    },
    "kernelspec": {
      "display_name": "Python 3.8.5 ('hlu')",
      "language": "python",
      "name": "python3"
    },
    "language_info": {
      "codemirror_mode": {
        "name": "ipython",
        "version": 3
      },
      "file_extension": ".py",
      "mimetype": "text/x-python",
      "name": "python",
      "nbconvert_exporter": "python",
      "pygments_lexer": "ipython3",
      "version": "3.8.5"
    },
    "vscode": {
      "interpreter": {
        "hash": "fd523941f93840f3066dc30de95cef5f0b3787e3e58410dcba83902e24288dc0"
      }
    }
  },
  "nbformat": 4,
  "nbformat_minor": 0
}
