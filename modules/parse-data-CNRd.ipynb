{
  "cells": [
    {
      "cell_type": "code",
      "execution_count": 4,
      "metadata": {
        "id": "2N5i0LEcxRtT"
      },
      "outputs": [],
      "source": [
        "import numpy as np\n",
        "from pathlib import Path"
      ]
    },
    {
      "cell_type": "markdown",
      "metadata": {},
      "source": [
        "---"
      ]
    },
    {
      "cell_type": "code",
      "execution_count": 5,
      "metadata": {},
      "outputs": [],
      "source": [
        "def do_train_valid_split(imgs_ds_dir, valid_pct=0.3, verbose=False):\n",
        "    \n",
        "    # iterate over directory and init random state\n",
        "    ds = np.array(list(Path(imgs_ds_dir).rglob(\"*.png\")), dtype=object)\n",
        "    rng = np.random.default_rng(17711)\n",
        "\n",
        "    # partition the dataset train/valid subsets\n",
        "    l_train =len(ds) - int(len(ds) * (valid_pct))\n",
        "    ds_subsets = np.ones_like(ds, dtype=object)\n",
        "    ds_subsets[:l_train] = \"train\"\n",
        "    ds_subsets[l_train:] = \"valid\"\n",
        "    if verbose: print(f\"{l_train=} | l_valid={(len(ds) - l_train)}\\n{ds[:3]=}\")\n",
        "\n",
        "    # shuffle the dataset, twice\n",
        "    rng.shuffle(ds) ; rng.shuffle(ds)\n",
        "    if verbose: print(f\"{ds[:3]=}\")\n",
        "\n",
        "    # move files to the subset folder and rename to work with dataloader\n",
        "    for f, subset in zip(ds, ds_subsets):\n",
        "        n_f = list(f.parts)\n",
        "        n_f.insert(-2, subset)\n",
        "        n_f[-1] = f.stem\n",
        "        n_f.append(\"top-down.png\")\n",
        "        n_f = Path(\"/\".join(n_f))\n",
        "\n",
        "        n_f.parent.mkdir(parents=True, exist_ok=True)\n",
        "        f.replace(n_f)\n",
        "        # break\n",
        "\n",
        "    # remove the now empty original class folders and print new dataset information\n",
        "    for d in Path(imgs_ds_dir).iterdir():\n",
        "        if d.is_dir() and not(list(d.iterdir())):\n",
        "            d.rmdir()\n",
        "        else:\n",
        "            print(f\"@{d.name} subset: {len(list(d.iterdir()))} classes | {len(list(d.rglob('*.png')))} gesture sequences\")\n",
        "\n",
        "# do_train_valid_split(imgs_ds_dir=\"../images_d/testing/\", valid_pct=0.3)"
      ]
    },
    {
      "cell_type": "markdown",
      "metadata": {},
      "source": [
        "---"
      ]
    },
    {
      "cell_type": "code",
      "execution_count": 6,
      "metadata": {},
      "outputs": [
        {
          "name": "stdout",
          "output_type": "stream",
          "text": [
            "@train subset: 16 classes | 1348 gesture sequences\n",
            "@valid subset: 16 classes | 577 gesture sequences\n"
          ]
        }
      ],
      "source": [
        "do_train_valid_split(imgs_ds_dir=\"../images_d/CNR-3d-original-1920px.1080px-[topdown]/\", valid_pct=0.3)"
      ]
    },
    {
      "cell_type": "code",
      "execution_count": null,
      "metadata": {},
      "outputs": [],
      "source": []
    }
  ],
  "metadata": {
    "colab": {
      "collapsed_sections": [],
      "name": "deep_learning_hand_gesture_recognition_01_data_download.ipynb",
      "provenance": []
    },
    "kernelspec": {
      "display_name": "Python 3.8.5 ('hlu')",
      "language": "python",
      "name": "python3"
    },
    "language_info": {
      "codemirror_mode": {
        "name": "ipython",
        "version": 3
      },
      "file_extension": ".py",
      "mimetype": "text/x-python",
      "name": "python",
      "nbconvert_exporter": "python",
      "pygments_lexer": "ipython3",
      "version": "3.8.5"
    },
    "vscode": {
      "interpreter": {
        "hash": "fd523941f93840f3066dc30de95cef5f0b3787e3e58410dcba83902e24288dc0"
      }
    }
  },
  "nbformat": 4,
  "nbformat_minor": 0
}
