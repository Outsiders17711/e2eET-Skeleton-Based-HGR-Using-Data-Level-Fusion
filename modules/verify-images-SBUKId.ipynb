{
 "cells": [
  {
   "cell_type": "code",
   "execution_count": null,
   "metadata": {},
   "outputs": [],
   "source": [
    "import random\n",
    "from PIL import Image\n",
    "from pathlib import Path\n",
    "\n",
    "images_dataset_directory = \"../images_d/\"\n",
    "%pwd"
   ]
  },
  {
   "cell_type": "markdown",
   "metadata": {},
   "source": [
    "---"
   ]
  },
  {
   "cell_type": "code",
   "execution_count": 8,
   "metadata": {},
   "outputs": [],
   "source": [
    "def _check_no_overlap(lists):\n",
    "    all_elements = []\n",
    "    for lst in lists:\n",
    "        for element in lst:\n",
    "            if element in all_elements:\n",
    "                return False\n",
    "            all_elements.append(element)\n",
    "    return True"
   ]
  },
  {
   "cell_type": "code",
   "execution_count": 9,
   "metadata": {},
   "outputs": [],
   "source": [
    "def _check_if_different(im1, im2):\n",
    "    im1 = Image.open(im1) \n",
    "    im2 = Image.open(im2) \n",
    "\n",
    "    if list(im1.getdata()) == list(im2.getdata()): \n",
    "        return False\n",
    "    else: \n",
    "        return True"
   ]
  },
  {
   "cell_type": "markdown",
   "metadata": {},
   "source": [
    "---"
   ]
  },
  {
   "cell_type": "code",
   "execution_count": 10,
   "metadata": {},
   "outputs": [
    {
     "name": "stdout",
     "output_type": "stream",
     "text": [
      "SUCCESS: SBUKId 5-fold cross validation split verified successfully!\n"
     ]
    }
   ],
   "source": [
    "cross_validation_datasets = list(Path(images_dataset_directory).glob(\"SBUKId-3D-CVS.*\"))\n",
    "assert len(set(cross_validation_datasets)) == 5, \"There should be five (5) data folds in the SBUKId cross-validation split. Check the generated spatiotemporal datasets!\"\n",
    "\n",
    "cross_validation_folds = []\n",
    "for dir in cross_validation_datasets:\n",
    "    valid_fold = dir.joinpath(\"valid/1.Approaching\").iterdir()\n",
    "    valid_fold = [sub_dir.name for sub_dir in valid_fold]\n",
    "    valid_fold = sorted(set([int(st.split(\"-\")[0].replace(\"st\", \"\")) for st in valid_fold]))\n",
    "    cross_validation_folds.append(valid_fold)\n",
    "    \n",
    "\n",
    "if not(_check_no_overlap(cross_validation_folds)):\n",
    "    raise AssertionError(\"There should be no overlap in the sets used for the SBUKId cross-validation split. Check the code in `./modules/parse-data-SBUKId.ipynb`!\")\n",
    "else:\n",
    "    print(\"SUCCESS: SBUKId 5-fold cross validation split verified successfully!\")"
   ]
  },
  {
   "cell_type": "code",
   "execution_count": 12,
   "metadata": {},
   "outputs": [
    {
     "name": "stdout",
     "output_type": "stream",
     "text": [
      "SUCCESS: SBUKId 5-fold cross validation images verified successfully!\n"
     ]
    }
   ],
   "source": [
    "f1, f2 = random.sample(cross_validation_datasets, 2)\n",
    "\n",
    "imgs_f1 = list(f1.joinpath(\"valid/1.Approaching\").rglob(\"*front-to.png\"))\n",
    "i_imgs_f1 = random.sample(imgs_f1, 1)[0]\n",
    "\n",
    "imgs_f2 = list(f2.joinpath(\"valid/1.Approaching\").rglob(\"*front-to.png\"))\n",
    "for j in imgs_f2:\n",
    "    assert _check_if_different(i_imgs_f1, j)\n",
    "\n",
    "print(\"SUCCESS: SBUKId 5-fold cross validation images verified successfully!\")"
   ]
  },
  {
   "cell_type": "code",
   "execution_count": 13,
   "metadata": {},
   "outputs": [
    {
     "name": "stdout",
     "output_type": "stream",
     "text": [
      "Using fold `..\\images_d\\SBUKId-3D-CVS.F03.8G-norm.960px-[allVOs.adaptiveMean]`::\n",
      "-- Comparing with fold `..\\images_d\\SBUKId-3D-CVS.F05.8G-norm.960px-[allVOs.adaptiveMean]`...\n",
      "-- Comparing with fold `..\\images_d\\SBUKId-3D-CVS.F01.8G-norm.960px-[allVOs.adaptiveMean]`...\n",
      "-- Comparing with fold `..\\images_d\\SBUKId-3D-CVS.F02.8G-norm.960px-[allVOs.adaptiveMean]`...\n",
      "-- Comparing with fold `..\\images_d\\SBUKId-3D-CVS.F04.8G-norm.960px-[allVOs.adaptiveMean]`...\n",
      "SUCCESS: SBUKId 5-fold cross validation images verified successfully!\n"
     ]
    }
   ],
   "source": [
    "random.shuffle(cross_validation_datasets)\n",
    "\n",
    "f1 = cross_validation_datasets.pop()\n",
    "imgs_f1 = list(f1.joinpath(\"valid/1.Approaching\").rglob(\"*front-to.png\"))\n",
    "i_imgs_f1 = imgs_f1[0]\n",
    "print(f\"Using fold `{f1}`::\")\n",
    "\n",
    "for f2 in cross_validation_datasets:\n",
    "    print(f\"-- Comparing with fold `{f2}`...\")\n",
    "    imgs_f2 = list(f2.joinpath(\"valid/1.Approaching\").rglob(\"*front-to.png\"))\n",
    "    for img in imgs_f2:\n",
    "        assert _check_if_different(i_imgs_f1, img)\n",
    "\n",
    "print(\"SUCCESS: SBUKId 5-fold cross validation images verified successfully!\")"
   ]
  },
  {
   "cell_type": "code",
   "execution_count": null,
   "metadata": {},
   "outputs": [],
   "source": []
  }
 ],
 "metadata": {
  "kernelspec": {
   "display_name": "hlu",
   "language": "python",
   "name": "python3"
  },
  "language_info": {
   "codemirror_mode": {
    "name": "ipython",
    "version": 3
   },
   "file_extension": ".py",
   "mimetype": "text/x-python",
   "name": "python",
   "nbconvert_exporter": "python",
   "pygments_lexer": "ipython3",
   "version": "3.8.5"
  },
  "orig_nbformat": 4
 },
 "nbformat": 4,
 "nbformat_minor": 2
}
