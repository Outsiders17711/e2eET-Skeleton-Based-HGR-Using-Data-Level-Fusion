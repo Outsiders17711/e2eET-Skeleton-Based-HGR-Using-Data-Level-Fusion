{
 "cells": [
  {
   "cell_type": "code",
   "execution_count": 1,
   "metadata": {
    "execution": {
     "iopub.execute_input": "2022-10-19T05:02:50.298221Z",
     "iopub.status.busy": "2022-10-19T05:02:50.297732Z",
     "iopub.status.idle": "2022-10-19T05:02:50.307681Z",
     "shell.execute_reply": "2022-10-19T05:02:50.307207Z"
    }
   },
   "outputs": [],
   "source": [
    "idx_gpu = 0"
   ]
  },
  {
   "cell_type": "code",
   "execution_count": 2,
   "metadata": {
    "execution": {
     "iopub.execute_input": "2022-10-19T05:02:50.311040Z",
     "iopub.status.busy": "2022-10-19T05:02:50.310886Z",
     "iopub.status.idle": "2022-10-19T05:02:50.313716Z",
     "shell.execute_reply": "2022-10-19T05:02:50.313053Z"
    }
   },
   "outputs": [],
   "source": [
    "# !python e2eEnsembleTunerTraining.py -IG {idx_gpu} --n_classes {7} -IE {25} -IISE {0} -ISIS {\"0\"} -CEMC -CETE #-V"
   ]
  },
  {
   "cell_type": "code",
   "execution_count": 3,
   "metadata": {
    "execution": {
     "iopub.execute_input": "2022-10-19T05:02:50.316940Z",
     "iopub.status.busy": "2022-10-19T05:02:50.316750Z",
     "iopub.status.idle": "2022-10-19T05:02:50.319433Z",
     "shell.execute_reply": "2022-10-19T05:02:50.318935Z"
    }
   },
   "outputs": [],
   "source": [
    "# !python e2eEnsembleTunerTraining.py -IG {idx_gpu} --n_classes {7} -IE {30} -IISE {0} -ISE {10} -ISIS {\"276 328\"} -CEMC -CETE #-V"
   ]
  }
 ],
 "metadata": {
  "kernelspec": {
   "display_name": "hlu",
   "language": "python",
   "name": "python3"
  },
  "language_info": {
   "codemirror_mode": {
    "name": "ipython",
    "version": 3
   },
   "file_extension": ".py",
   "mimetype": "text/x-python",
   "name": "python",
   "nbconvert_exporter": "python",
   "pygments_lexer": "ipython3",
   "version": "3.8.5 (default, Sep  3 2020, 21:29:08) [MSC v.1916 64 bit (AMD64)]"
  },
  "vscode": {
   "interpreter": {
    "hash": "fd523941f93840f3066dc30de95cef5f0b3787e3e58410dcba83902e24288dc0"
   }
  }
 },
 "nbformat": 4,
 "nbformat_minor": 2
}
